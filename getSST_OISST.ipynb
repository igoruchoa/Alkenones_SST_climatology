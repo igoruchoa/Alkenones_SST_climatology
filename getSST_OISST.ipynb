{
 "cells": [
  {
   "cell_type": "code",
   "execution_count": 1,
   "id": "5cd94cc4-b0ab-4a45-9478-4fe5c8a5c220",
   "metadata": {},
   "outputs": [],
   "source": [
    "import numpy as np\n",
    "from siphon.catalog import TDSCatalog\n",
    "import xarray as xr\n",
    "# from xarray.backends import NetCDF4DataStore\n",
    "# import netCDF4 as nc\n",
    "import matplotlib.pylab as plt\n",
    "import pandas as pd\n",
    "\n",
    "from dask.diagnostics import ProgressBar\n",
    "import dask\n",
    "# dask.config.set(**{'array.slicing.split_large_chunks': True})\n",
    "from dask.distributed import Client, LocalCluster\n",
    "\n",
    "\n"
   ]
  },
  {
   "cell_type": "code",
   "execution_count": 6,
   "id": "d047586f-3c99-459c-aea5-1b6fbf211571",
   "metadata": {},
   "outputs": [
    {
     "name": "stderr",
     "output_type": "stream",
     "text": [
      "/homes/metogra/iufarias/miniconda3/envs/ROMS/lib/python3.7/site-packages/siphon/catalog.py:293: UserWarning: URL https://www.ncei.noaa.gov/thredds/catalog/OisstBase/NetCDF/V2.0/AVHRR/catalog.html returned HTML. Changing to: https://www.ncei.noaa.gov/thredds/catalog/OisstBase/NetCDF/V2.0/AVHRR/catalog.xml\n",
      "  new_url))\n"
     ]
    }
   ],
   "source": [
    "cat = TDSCatalog('https://www.ncei.noaa.gov/thredds/catalog/OisstBase/NetCDF/V2.0/AVHRR/catalog.html')\n",
    "cat_names=cat.catalog_refs\n",
    "\n"
   ]
  },
  {
   "cell_type": "code",
   "execution_count": 7,
   "id": "a462e134-d901-4f3d-be37-716b773fbfca",
   "metadata": {},
   "outputs": [],
   "source": [
    "SST_year=xr.DataArray(coords=(range(len(cat_names)),range(28),range(22)),dims=['time','lat','lon'])\n",
    "sst_time_string=[]"
   ]
  },
  {
   "cell_type": "code",
   "execution_count": 21,
   "id": "9ddfa8c2-07cb-4742-90ae-916f791b880b",
   "metadata": {},
   "outputs": [
    {
     "name": "stderr",
     "output_type": "stream",
     "text": [
      "syntax error, unexpected WORD_WORD, expecting SCAN_ATTR or SCAN_DATASET or SCAN_ERROR\n",
      "context: <!DOCTYPE^ HTML PUBLIC \"-//IETF//DTD HTML 2.0//EN\"><html><head><title>503 Service Unavailable</title></head><body><h1>Service Unavailable</h1><p>The server is temporarily unable to service yourrequest due to maintenance downtime or capacityproblems. Please try again later.</p><p>Additionally, a 503 Service Unavailableerror was encountered while trying to use an ErrorDocument to handle the request.</p></body></html>\n",
      "syntax error, unexpected WORD_WORD, expecting SCAN_ATTR or SCAN_DATASET or SCAN_ERROR\n",
      "context: <!DOCTYPE^ HTML PUBLIC \"-//IETF//DTD HTML 2.0//EN\"><html><head><title>503 Service Unavailable</title></head><body><h1>Service Unavailable</h1><p>The server is temporarily unable to service yourrequest due to maintenance downtime or capacityproblems. Please try again later.</p><p>Additionally, a 503 Service Unavailableerror was encountered while trying to use an ErrorDocument to handle the request.</p></body></html>\n",
      "syntax error, unexpected WORD_WORD, expecting SCAN_ATTR or SCAN_DATASET or SCAN_ERROR\n",
      "context: <!DOCTYPE^ HTML PUBLIC \"-//IETF//DTD HTML 2.0//EN\"><html><head><title>503 Service Unavailable</title></head><body><h1>Service Unavailable</h1><p>The server is temporarily unable to service yourrequest due to maintenance downtime or capacityproblems. Please try again later.</p><p>Additionally, a 503 Service Unavailableerror was encountered while trying to use an ErrorDocument to handle the request.</p></body></html>\n"
     ]
    },
    {
     "name": "stdout",
     "output_type": "stream",
     "text": [
      "CPU times: user 2min 51s, sys: 1min 3s, total: 3min 54s\n",
      "Wall time: 1h 39min 49s\n"
     ]
    }
   ],
   "source": [
    "%%time\n",
    "# ixx=10\n",
    "# for ixx in range(6):\n",
    "for ixx in range(388,len(cat_names)):\n",
    "\n",
    "    new_cat_string='https://www.ncei.noaa.gov/thredds/catalog/OisstBase/NetCDF/V2.0/AVHRR/'+ str(cat_names[ixx])+'/catalog.xml'\n",
    "    # new_cat_string='https://www.ncei.noaa.gov/thredds/catalog/OisstBase/NetCDF/V2.0/AVHRR/'+ str(cat_names[ixx])+'/catalog.html'\n",
    "    new_cat = TDSCatalog(new_cat_string)\n",
    "\n",
    "    ult_list=['https://www.ncei.noaa.gov/thredds/dodsC/OisstBase/NetCDF/V2.0/AVHRR/'+ str(cat_names[ixx])+'/'+ names for names in new_cat.datasets]\n",
    "    ult_list.sort()\n",
    "\n",
    "    var=xr.open_mfdataset(ult_list)#['sea_surface_temperature']\n",
    "    var_sec=var.sel(lat=slice(-34,-27),lon=slice(-53 + 360,-47.5+360))\n",
    "    sst_month=var_sec['sst'].groupby(var_sec.time.dt.month).mean()\n",
    "    \n",
    "    SST_year[ixx,:,:]=sst_month[0,0,:,:].data\n",
    "    sst_time_string.append(cat_names[ixx])\n",
    "\n"
   ]
  },
  {
   "cell_type": "code",
   "execution_count": 113,
   "id": "1c87b23e-b486-4628-988a-e688d1d0103f",
   "metadata": {},
   "outputs": [],
   "source": [
    "lon_er=sst_month.lon.data\n",
    "lon_er-=360\n",
    "lat_er=sst_month.lat.data\n",
    "\n",
    "datestring=pd.DatetimeIndex(\n",
    "    [np.datetime64(str(nombre)[0:4] + '-' + str(nombre)[4:]) for nombre in cat_names]\n",
    ")\n"
   ]
  },
  {
   "cell_type": "code",
   "execution_count": 122,
   "id": "cbf522fe-04b9-47ff-9564-39ad9ade2e64",
   "metadata": {},
   "outputs": [],
   "source": [
    "SST_year=SST_year.assign_coords(month_string=('time',datestring))\n",
    "# SST_year.assign_coords(month_string=('time',np.arange(len(cat_names))))\n",
    "\n",
    "\n",
    "SST_year['lon']=lon_er\n",
    "SST_year['lat']=lat_er"
   ]
  },
  {
   "cell_type": "code",
   "execution_count": 39,
   "id": "3e9fe1de-f2c3-43bb-b5af-e34ebd5d85b1",
   "metadata": {},
   "outputs": [],
   "source": [
    "SST_year.to_netcdf('/homes/metogra/iufarias/Alkenone_SST/data_processed_OISST/SST_year_total.nc')"
   ]
  },
  {
   "cell_type": "markdown",
   "id": "a72f2afa-4710-430e-bf9b-e8c0b24101b6",
   "metadata": {},
   "source": [
    "# Setting up locations"
   ]
  },
  {
   "cell_type": "code",
   "execution_count": 68,
   "id": "f290ef61-f534-49a6-a604-f0d2c4b4577b",
   "metadata": {},
   "outputs": [],
   "source": [
    "#Locations\n",
    "stations=np.array([556,557,560,561,562,564,565,566,568,569,570,571,573,574,576,579,580,581,582,583,584])\n",
    "lon_s=-np.array([52.31,52.21,51.41,51.30,50.85,51.95,50.92,50.62,50.45,\n",
    "              50.56,50.37,50.30,50.11,49.97,49.15,48.83,48.22,48.28,48.57,48.17,47.85])\n",
    "lat_s=-np.array([33.75,33.79,33.23,33.27,33.45,32.19,32.83,33.00,33.10,\n",
    "               32.29,32.48,32.53,30.99,31.10,29.83,28.63,29.29,29.22,28.03,28.15,28.24])"
   ]
  },
  {
   "cell_type": "code",
   "execution_count": 69,
   "id": "2921d6b6-0f3b-4e5d-8ed9-f176f78fb81b",
   "metadata": {},
   "outputs": [],
   "source": [
    "SST_stationDF=[]\n",
    "for idx in range(len(stations)):\n",
    "    indx_lon=np.argwhere(SST_year.lon.data<=lon_s[idx]).T[0][-1]\n",
    "    indx_lat=np.argwhere(SST_year.lat.data<=lat_s[idx]).T[0][-1]\n",
    "\n",
    "    # sst_station_sample=sst_new[:,indx_lat,indx_lon]\n",
    "    SST_stationDF.append(SST_year[:,indx_lat,indx_lon].data)"
   ]
  },
  {
   "cell_type": "code",
   "execution_count": 70,
   "id": "f73477f3-5f5b-4490-a11a-c338757962af",
   "metadata": {},
   "outputs": [],
   "source": [
    "SST_stationDF_OISST=pd.DataFrame(SST_stationDF,index=stations,columns=datestring)"
   ]
  },
  {
   "cell_type": "markdown",
   "id": "39b27b91-8844-46fa-922d-49845f5948db",
   "metadata": {},
   "source": [
    "# Monthly Average"
   ]
  },
  {
   "cell_type": "code",
   "execution_count": 190,
   "id": "9953f89d-c5e3-48d6-affa-6e3445d42e72",
   "metadata": {},
   "outputs": [],
   "source": [
    "month_string=['01_(JAN)','02_(FEV)','03_(MAR)','04_(ABR)','05_(MAI)','06_(JUN)',\n",
    "              '07_(JUL)','08_(AGO)','09_(SET)','10_(OUT)','11_(NOV)','12_(DEZ)']"
   ]
  },
  {
   "cell_type": "code",
   "execution_count": 74,
   "id": "dcc6e597-651b-4575-9c66-59ce9fc45037",
   "metadata": {},
   "outputs": [],
   "source": [
    "SST_stationDF_OISST.to_csv('/homes/metogra/iufarias/Alkenone_SST/data_processed_OISST/Total_OISST_climatology.csv')"
   ]
  },
  {
   "cell_type": "code",
   "execution_count": 191,
   "id": "e2512c31-8372-4a8d-925b-49e5eec9ddd7",
   "metadata": {},
   "outputs": [],
   "source": [
    "for moi in np.arange(1,13):\n",
    "\n",
    "    indx_month=SST_stationDF_OISST.columns.month==moi\n",
    "    Eachmonth_SST_stations=SST_stationDF_OISST.iloc[:,indx_month]\n",
    "    Eachmonth_SST_stations.to_csv('/homes/metogra/iufarias/Alkenone_SST/data_processed_OISST/{0}_OISST_climatology.csv'.format(month_string[moi-1]))"
   ]
  },
  {
   "cell_type": "markdown",
   "id": "2c657656-bdfb-40f7-8e05-3636c4db01d8",
   "metadata": {},
   "source": [
    "# Seasonal Average"
   ]
  },
  {
   "cell_type": "code",
   "execution_count": 193,
   "id": "d56477d5-7e88-4dad-a646-631044da0ebb",
   "metadata": {},
   "outputs": [],
   "source": [
    "season_index=[[1,2,3],[4,5,6],[7,8,9],[10,11,12]]\n",
    "season_string=['JFM','MAJ','JAS','OND']"
   ]
  },
  {
   "cell_type": "code",
   "execution_count": 195,
   "id": "c4895819-361e-461c-b09f-39d0c35b9a76",
   "metadata": {},
   "outputs": [],
   "source": [
    "for soi in range(4):\n",
    "\n",
    "    indx_season=(SST_stationDF_OISST.columns.month>=season_index[soi][0])&(SST_stationDF_OISST.columns.month<=season_index[soi][2])\n",
    "    Eachseason_SST_stations=SST_stationDF_OISST.iloc[:,indx_season]\n",
    "    SEASON_X_SST=Eachseason_SST_stations.groupby(by=Eachseason_SST_stations.columns.year,axis=1).mean()\n",
    "    SEASON_X_SST.to_csv('/homes/metogra/iufarias/Alkenone_SST/data_processed_OISST/{0}_OISST_climatology.csv'.format(season_string[soi]))"
   ]
  }
 ],
 "metadata": {
  "kernelspec": {
   "display_name": "ROMS",
   "language": "python",
   "name": "roms"
  },
  "language_info": {
   "codemirror_mode": {
    "name": "ipython",
    "version": 3
   },
   "file_extension": ".py",
   "mimetype": "text/x-python",
   "name": "python",
   "nbconvert_exporter": "python",
   "pygments_lexer": "ipython3",
   "version": "3.7.0"
  }
 },
 "nbformat": 4,
 "nbformat_minor": 5
}
