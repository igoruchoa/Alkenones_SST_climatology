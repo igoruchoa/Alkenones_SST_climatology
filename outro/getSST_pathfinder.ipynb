{
 "cells": [
  {
   "cell_type": "code",
   "execution_count": 1,
   "id": "762dacf1-bd3c-4ee5-aa91-968b7318b1aa",
   "metadata": {},
   "outputs": [],
   "source": [
    "import numpy as np\n",
    "from siphon.catalog import TDSCatalog\n",
    "import xarray as xr\n",
    "# from xarray.backends import NetCDF4DataStore\n",
    "# import netCDF4 as nc\n",
    "import matplotlib.pylab as plt"
   ]
  },
  {
   "cell_type": "code",
   "execution_count": 2,
   "id": "71df58dd-2d95-4cd7-b4e9-576845ecbea7",
   "metadata": {},
   "outputs": [
    {
     "name": "stderr",
     "output_type": "stream",
     "text": [
      "/homes/metogra/iufarias/miniconda3/envs/ROMS/lib/python3.7/site-packages/siphon/catalog.py:293: UserWarning: URL https://www.ncei.noaa.gov/thredds-ocean/catalog/pathfinder/Version5.3/L3C/1982/data/catalog.html returned HTML. Changing to: https://www.ncei.noaa.gov/thredds-ocean/catalog/pathfinder/Version5.3/L3C/1982/data/catalog.xml\n",
      "  new_url))\n"
     ]
    }
   ],
   "source": [
    "cat = TDSCatalog('https://www.ncei.noaa.gov/thredds-ocean/catalog/pathfinder/Version5.3/L3C/1982/data/catalog.html')"
   ]
  },
  {
   "cell_type": "code",
   "execution_count": 17,
   "id": "eb98f40a-9e72-4dfa-8faf-fe69203099c2",
   "metadata": {},
   "outputs": [],
   "source": [
    "years=np.arange(1982,2022)"
   ]
  },
  {
   "cell_type": "code",
   "execution_count": 3,
   "id": "56d6bcf7-a10e-4336-a06b-efc8efe05a95",
   "metadata": {},
   "outputs": [],
   "source": [
    "year='1982'\n",
    "cat = TDSCatalog('https://www.ncei.noaa.gov/thredds-ocean/catalog/pathfinder/Version5.3/L3C/'+ year +'/data/catalog.html')\n",
    "ult_list=['https://www.ncei.noaa.gov/thredds-ocean/dodsC/pathfinder/Version5.3/L3C/1982/data/' + names for names in cat.datasets]\n",
    "ult_list.sort()"
   ]
  },
  {
   "cell_type": "code",
   "execution_count": 4,
   "id": "cc48fad9-a15d-489d-9e74-e67ec00364a4",
   "metadata": {},
   "outputs": [],
   "source": [
    "new_ult_list=[nombres +'#fillmismatch' for nombres in ult_list]"
   ]
  },
  {
   "cell_type": "code",
   "execution_count": 8,
   "id": "fd00ec97-955f-4e76-8d3e-45002ff7418f",
   "metadata": {},
   "outputs": [],
   "source": [
    "sst_givenyear_list=new_ult_list[::2]"
   ]
  },
  {
   "cell_type": "code",
   "execution_count": 25,
   "id": "9b860891-63e1-4477-8c58-92dd9fb39e04",
   "metadata": {},
   "outputs": [
    {
     "name": "stdout",
     "output_type": "stream",
     "text": [
      "CPU times: user 53.9 ms, sys: 12.2 ms, total: 66.1 ms\n",
      "Wall time: 1.05 s\n"
     ]
    }
   ],
   "source": [
    "%%time\n",
    "SST_y=xr.Dataset()\n",
    "for idd in range(len(sst_givenyear_list)):\n",
    "    var=xr.open_dataset(sst_givenyear_list[idd])\n",
    "    sst=var.sea_surface_temperature.sel(lat=slice(-27,-34),lon=slice(-53,-47.5)).compute()\n",
    "    sst_month=sst.groupby(sst.time.dt.month).mean()\n",
    "    "
   ]
  },
  {
   "cell_type": "code",
   "execution_count": null,
   "id": "f55e317e-83e8-4a27-852c-7053c48b371a",
   "metadata": {},
   "outputs": [],
   "source": [
    "# %%time\n",
    "# var=xr.open_mfdataset(new_ult_list[::2])"
   ]
  },
  {
   "cell_type": "code",
   "execution_count": 23,
   "id": "28182a91-7bfd-4951-8b82-f7bfab100f0d",
   "metadata": {},
   "outputs": [],
   "source": [
    "# %%time\n",
    "# sst_m=var.sea_surface_temperature.groupby(var.time.dt.month).mean().compute()"
   ]
  },
  {
   "cell_type": "code",
   "execution_count": null,
   "id": "dbd0b5c9-e83a-42fd-a2c0-fc3adf766579",
   "metadata": {},
   "outputs": [],
   "source": []
  }
 ],
 "metadata": {
  "kernelspec": {
   "display_name": "ROMS",
   "language": "python",
   "name": "roms"
  },
  "language_info": {
   "codemirror_mode": {
    "name": "ipython",
    "version": 3
   },
   "file_extension": ".py",
   "mimetype": "text/x-python",
   "name": "python",
   "nbconvert_exporter": "python",
   "pygments_lexer": "ipython3",
   "version": "3.7.0"
  }
 },
 "nbformat": 4,
 "nbformat_minor": 5
}
